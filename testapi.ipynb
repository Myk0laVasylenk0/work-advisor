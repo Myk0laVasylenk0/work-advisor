{
 "cells": [
  {
   "cell_type": "code",
   "execution_count": 15,
   "id": "initial_id",
   "metadata": {
    "collapsed": true,
    "ExecuteTime": {
     "end_time": "2024-04-30T12:50:08.857289Z",
     "start_time": "2024-04-30T12:50:08.853746Z"
    }
   },
   "outputs": [],
   "source": [
    "import requests\n",
    "import json\n",
    "\n",
    "url = \"https://jobs-api14.p.rapidapi.com/list\"\n",
    "\n",
    "headers = {\n",
    "    \"X-RapidAPI-Key\": \"f8aeec8e76msh2d835d623932470p1ce799jsn6efb4b8c4883\",\n",
    "    \"X-RapidAPI-Host\": \"jobs-api14.p.rapidapi.com\"\n",
    "}\n",
    "\n",
    "\n"
   ]
  },
  {
   "cell_type": "code",
   "outputs": [],
   "source": [
    "querystring = {\"query\": \"Web Developer\", \"location\": \"Kyiv, Ukraine\", \"distance\": \"1.0\", \"language\": \"en_GB\",\n",
    "               \"remoteOnly\": \"false\", \"datePosted\": \"month\", \"employmentTypes\": \"fulltime;parttime;intern;contractor\",\n",
    "               \"index\": \"0\"}\n",
    "\n",
    "response = requests.get(url, headers=headers, params=querystring)\n",
    "response_dict = response.json()\n",
    "jobs_list = response_dict['jobs']"
   ],
   "metadata": {
    "collapsed": false,
    "ExecuteTime": {
     "end_time": "2024-04-30T12:50:10.366226Z",
     "start_time": "2024-04-30T12:50:08.878355Z"
    }
   },
   "id": "cb858782451dce1a",
   "execution_count": 16
  },
  {
   "cell_type": "code",
   "outputs": [
    {
     "name": "stdout",
     "output_type": "stream",
     "text": [
      "Concert.ua – найбільший квитковий оператор України. Ми створили його, щоб ділитися емоціями не тільки під час подій, а й поза ними.Чесність у взаєминах, компетентність кожного співробітника, синергія у співпраці та пристрасть до того, що ми робимо – ...\n"
     ]
    }
   ],
   "source": [
    "print(response_dict['jobs'][0]['description'])"
   ],
   "metadata": {
    "collapsed": false,
    "ExecuteTime": {
     "end_time": "2024-04-30T12:50:54.166921Z",
     "start_time": "2024-04-30T12:50:54.162010Z"
    }
   },
   "id": "fbfda1c1ddc57deb",
   "execution_count": 18
  },
  {
   "cell_type": "code",
   "outputs": [
    {
     "name": "stdout",
     "output_type": "stream",
     "text": [
      "Jun/Med Frontend Web-Developer\n"
     ]
    }
   ],
   "source": [
    "print(response_dict['jobs'][0]['title'])"
   ],
   "metadata": {
    "collapsed": false,
    "ExecuteTime": {
     "end_time": "2024-04-30T12:58:57.153231Z",
     "start_time": "2024-04-30T12:58:57.147352Z"
    }
   },
   "id": "328f9750c85e3c52",
   "execution_count": 21
  },
  {
   "cell_type": "code",
   "outputs": [],
   "source": [],
   "metadata": {
    "collapsed": false
   },
   "id": "8c3233190af8274c"
  }
 ],
 "metadata": {
  "kernelspec": {
   "display_name": "Python 3",
   "language": "python",
   "name": "python3"
  },
  "language_info": {
   "codemirror_mode": {
    "name": "ipython",
    "version": 2
   },
   "file_extension": ".py",
   "mimetype": "text/x-python",
   "name": "python",
   "nbconvert_exporter": "python",
   "pygments_lexer": "ipython2",
   "version": "2.7.6"
  }
 },
 "nbformat": 4,
 "nbformat_minor": 5
}
